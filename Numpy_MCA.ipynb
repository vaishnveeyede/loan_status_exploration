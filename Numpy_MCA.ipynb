{
 "cells": [
  {
   "cell_type": "markdown",
   "id": "6109c3a9",
   "metadata": {},
   "source": [
    "# Numpy\n",
    "Numpy is one of the most important foundational packages for Numerical computing in python<br>\n",
    "Some of the important things in Numpy<br>\n",
    "1. ndrray - multidimensional array for fast array-oriented and broadcasting operations\n",
    "2. Fast mathematical opertions without for loops\n",
    "3. reading/writing array data to the disk\n",
    "4. memory-mapped files\n",
    "5. Linear Algebra, random number generation"
   ]
  },
  {
   "cell_type": "markdown",
   "id": "e854d653",
   "metadata": {},
   "source": [
    "### Usage for Data Analysis operations\n",
    "1. Fast vectorized multidimentioanl array operation for data cleanup, subsetting, filtering and other operations\n",
    "2. Sorting, unique and set operations\n",
    "3. Descriptive statistics, aggregating and summarizing data\n",
    "4. Merging and Joining heterogenous datasets\n",
    "5. conditional logic as array expressions\n",
    "6. group-wise data manipulations"
   ]
  },
  {
   "cell_type": "markdown",
   "id": "b091cd28",
   "metadata": {},
   "source": [
    "### What is an array?\n",
    "1. A numpy array looks similar to a list\n",
    "1. An array is a grid of values, indexed by a tuple of positive integers\n",
    "1. It usually contains numeric values. However it can contain string values\n",
    "1. They work faster than lists\n",
    "1. An array can be n-dimensional"
   ]
  },
  {
   "cell_type": "code",
   "execution_count": 1,
   "id": "c3a12c7b",
   "metadata": {},
   "outputs": [],
   "source": [
    "import numpy as np"
   ]
  },
  {
   "cell_type": "markdown",
   "id": "ec547d14",
   "metadata": {},
   "source": [
    "## Create NumPy array using list"
   ]
  },
  {
   "cell_type": "code",
   "execution_count": 18,
   "id": "7930f546",
   "metadata": {},
   "outputs": [],
   "source": [
    "# create 2 new lists height and weight of 6 people\n",
    "person_height = [5.2,  5.4, 4.4, 4.5, 5.6, 6]\n",
    "person_weight = [81, 55, 65, 70, 45, 44]\n",
    "\n",
    "# create 2 numpy arrays from height and weight from the above lists\n",
    "person_height = np.array(person_height)\n",
    "person_weight = np.array(person_weight)"
   ]
  },
  {
   "cell_type": "code",
   "execution_count": 3,
   "id": "775a0a7d",
   "metadata": {},
   "outputs": [
    {
     "data": {
      "text/plain": [
       "array([5.2, 5.4, 4.4, 4.5, 5.6, 6. ])"
      ]
     },
     "execution_count": 3,
     "metadata": {},
     "output_type": "execute_result"
    }
   ],
   "source": [
    "person_height"
   ]
  },
  {
   "cell_type": "code",
   "execution_count": 19,
   "id": "eb7477a9",
   "metadata": {},
   "outputs": [
    {
     "data": {
      "text/plain": [
       "(array([5.2, 5.4, 4.4, 4.5, 5.6, 6. ]), array([81, 55, 65, 70, 45, 44]))"
      ]
     },
     "execution_count": 19,
     "metadata": {},
     "output_type": "execute_result"
    }
   ],
   "source": [
    "person_height, person_weight"
   ]
  },
  {
   "cell_type": "code",
   "execution_count": 4,
   "id": "18494808",
   "metadata": {},
   "outputs": [
    {
     "data": {
      "text/plain": [
       "array([81, 55, 65, 70, 45, 44])"
      ]
     },
     "execution_count": 4,
     "metadata": {},
     "output_type": "execute_result"
    }
   ],
   "source": [
    "person_weight"
   ]
  },
  {
   "cell_type": "markdown",
   "id": "b05f5162",
   "metadata": {},
   "source": [
    "Print type of 'person_weight'"
   ]
  },
  {
   "cell_type": "code",
   "execution_count": 20,
   "id": "593c0243",
   "metadata": {},
   "outputs": [
    {
     "data": {
      "text/plain": [
       "numpy.ndarray"
      ]
     },
     "execution_count": 20,
     "metadata": {},
     "output_type": "execute_result"
    }
   ],
   "source": [
    "type(person_weight)"
   ]
  },
  {
   "cell_type": "code",
   "execution_count": null,
   "id": "4601905a",
   "metadata": {},
   "outputs": [],
   "source": []
  },
  {
   "cell_type": "markdown",
   "id": "46c8f062",
   "metadata": {},
   "source": [
    "## Advantages of numpy arrays over lists\n",
    "\n",
    "Python numpy arrays are more compact as compared to lists."
   ]
  },
  {
   "cell_type": "code",
   "execution_count": 21,
   "id": "174f4d1b",
   "metadata": {},
   "outputs": [
    {
     "data": {
      "text/plain": [
       "[5, 6, 7, 2, 3, 4]"
      ]
     },
     "execution_count": 21,
     "metadata": {},
     "output_type": "execute_result"
    }
   ],
   "source": [
    "# consider a list of numbers\n",
    "num_list = [4, 5, 6, 1, 2, 3]\n",
    "\n",
    "# add 1 to each element\n",
    "num_modified_list = [i + 1 for i in num_list]\n",
    "\n",
    "# print the list\n",
    "num_modified_list"
   ]
  },
  {
   "cell_type": "code",
   "execution_count": 22,
   "id": "66f8897a",
   "metadata": {},
   "outputs": [
    {
     "data": {
      "text/plain": [
       "array([5, 6, 7, 2, 3, 4])"
      ]
     },
     "execution_count": 22,
     "metadata": {},
     "output_type": "execute_result"
    }
   ],
   "source": [
    "# create an array from a list\n",
    "num_array = np.array([4, 5, 6, 1, 2, 3])\n",
    "\n",
    "# add 1 to each element\n",
    "num_modified_array = num_array + 1\n",
    "\n",
    "# print the array\n",
    "num_modified_array"
   ]
  },
  {
   "cell_type": "code",
   "execution_count": 8,
   "id": "1bfad1f8",
   "metadata": {},
   "outputs": [
    {
     "ename": "TypeError",
     "evalue": "can only concatenate list (not \"int\") to list",
     "output_type": "error",
     "traceback": [
      "\u001b[1;31m---------------------------------------------------------------------------\u001b[0m",
      "\u001b[1;31mTypeError\u001b[0m                                 Traceback (most recent call last)",
      "\u001b[1;32m~\\AppData\\Local\\Temp\\ipykernel_21724\\1221015163.py\u001b[0m in \u001b[0;36m<module>\u001b[1;34m\u001b[0m\n\u001b[1;32m----> 1\u001b[1;33m \u001b[0mnum_list\u001b[0m \u001b[1;33m+\u001b[0m \u001b[1;36m1\u001b[0m\u001b[1;33m\u001b[0m\u001b[1;33m\u001b[0m\u001b[0m\n\u001b[0m",
      "\u001b[1;31mTypeError\u001b[0m: can only concatenate list (not \"int\") to list"
     ]
    }
   ],
   "source": [
    "num_list + 1"
   ]
  },
  {
   "cell_type": "code",
   "execution_count": 2,
   "id": "48b3b78f",
   "metadata": {},
   "outputs": [],
   "source": [
    "# create a Numpy array using arange of size 1000000\n",
    "my_array = np.arange(1000000)\n",
    "\n",
    "# create a python list using range of size 1000000\n",
    "my_list = list(range(1000000))"
   ]
  },
  {
   "cell_type": "code",
   "execution_count": 3,
   "id": "541d2690",
   "metadata": {},
   "outputs": [
    {
     "name": "stdout",
     "output_type": "stream",
     "text": [
      "Wall time: 21 ms\n",
      "Wall time: 2.28 s\n"
     ]
    }
   ],
   "source": [
    "# print out execution time for the following\n",
    "\n",
    "# time required for computations in an array\n",
    "%time for _ in range(10): my_modified_array = my_array ** 2\n",
    "\n",
    "# time required for computation in an array    \n",
    "%time for _ in range(10): my_modified_list = [x ** 2 for x in my_list]"
   ]
  },
  {
   "cell_type": "code",
   "execution_count": null,
   "id": "301b1912",
   "metadata": {},
   "outputs": [],
   "source": []
  },
  {
   "cell_type": "markdown",
   "id": "4052593b",
   "metadata": {},
   "source": [
    "## Functions to Create Array"
   ]
  },
  {
   "cell_type": "markdown",
   "id": "c2724edd",
   "metadata": {},
   "source": [
    "#### An array of Zeros\n",
    "The zeros() will create a new array of the specified size with the contents filled with zero values."
   ]
  },
  {
   "cell_type": "code",
   "execution_count": 25,
   "id": "613f3299",
   "metadata": {},
   "outputs": [
    {
     "name": "stdout",
     "output_type": "stream",
     "text": [
      "[[0. 0.]\n",
      " [0. 0.]\n",
      " [0. 0.]]\n"
     ]
    }
   ],
   "source": [
    "# create a numpy ray with 3 rows and 2 columns\n",
    "my_array = np.zeros([3, 2])\n",
    "\n",
    "# print the array\n",
    "print(my_array)"
   ]
  },
  {
   "cell_type": "markdown",
   "id": "c13f4b93",
   "metadata": {},
   "source": [
    "#### An array of Ones\n",
    "The ones() will create a new array of the specified size with its elements as unity."
   ]
  },
  {
   "cell_type": "code",
   "execution_count": 11,
   "id": "ccc57cff",
   "metadata": {},
   "outputs": [
    {
     "name": "stdout",
     "output_type": "stream",
     "text": [
      "[[1. 1.]\n",
      " [1. 1.]\n",
      " [1. 1.]\n",
      " [1. 1.]\n",
      " [1. 1.]]\n"
     ]
    }
   ],
   "source": [
    "# create a numpy ray with 5 elements\n",
    "my_array = np.ones([5,2])\n",
    "\n",
    "# print the array\n",
    "print(my_array)"
   ]
  },
  {
   "cell_type": "markdown",
   "id": "9f34c494",
   "metadata": {},
   "source": [
    "**An Empty array**\n",
    "\n",
    "The empty() wull create an empty matrix."
   ]
  },
  {
   "cell_type": "code",
   "execution_count": 12,
   "id": "ba3a4cad",
   "metadata": {},
   "outputs": [
    {
     "name": "stdout",
     "output_type": "stream",
     "text": [
      "[[0. 0.]\n",
      " [0. 0.]\n",
      " [0. 0.]]\n"
     ]
    }
   ],
   "source": [
    "# create a numpy ray with 3 rows and 2 columns\n",
    "my_array = np.empty([3, 2])\n",
    "\n",
    "# print the array\n",
    "print(my_array)"
   ]
  },
  {
   "cell_type": "code",
   "execution_count": 13,
   "id": "e02e02bd",
   "metadata": {},
   "outputs": [
    {
     "name": "stdout",
     "output_type": "stream",
     "text": [
      "[[1.00930138e-311 4.67296746e-307]\n",
      " [6.06712613e-321 3.79442416e-321]]\n"
     ]
    }
   ],
   "source": [
    "# create a numpy ray with 3 rows and 2 columns\n",
    "my_array = np.empty((2, 2), dtype = float)\n",
    "\n",
    "# print the array\n",
    "print(my_array)"
   ]
  },
  {
   "cell_type": "markdown",
   "id": "008b895e",
   "metadata": {},
   "source": [
    "#### An array of random numbers\n",
    "The random() function returns random numbers in the half-open interval [0.0, 1.0). The half-open interval includes 0 but excludes 1. The required number of random numbers is passed through the ‘size’ parameter."
   ]
  },
  {
   "cell_type": "code",
   "execution_count": 27,
   "id": "b37a1e1f",
   "metadata": {},
   "outputs": [
    {
     "data": {
      "text/plain": [
       "array([[0.38989327, 0.95497496],\n",
       "       [0.2137153 , 0.87176376],\n",
       "       [0.66338031, 0.61846389]])"
      ]
     },
     "execution_count": 27,
     "metadata": {},
     "output_type": "execute_result"
    }
   ],
   "source": [
    "# create 2D array of 3 rows and 2 columns of random numbers\n",
    "my_array = np.random.random(size = (3, 2))\n",
    "\n",
    "# print the array\n",
    "my_array"
   ]
  },
  {
   "cell_type": "markdown",
   "id": "1e6b4ec9",
   "metadata": {},
   "source": [
    "The randn() creates an array of the given shape with random variables from a uniform distribution between (0, 1)"
   ]
  },
  {
   "cell_type": "code",
   "execution_count": 15,
   "id": "8173aa25",
   "metadata": {},
   "outputs": [
    {
     "data": {
      "text/plain": [
       "array([[ 0.96028445, -0.84442195],\n",
       "       [ 1.19298895, -0.47365227],\n",
       "       [ 0.69337921, -1.98909522],\n",
       "       [ 0.54153558, -1.05088839]])"
      ]
     },
     "execution_count": 15,
     "metadata": {},
     "output_type": "execute_result"
    }
   ],
   "source": [
    "# create 2D array of 4 rows and 2 columns of random numbers\n",
    "my_array = np.random.randn(4, 2)\n",
    "\n",
    "# print the array\n",
    "my_array"
   ]
  },
  {
   "cell_type": "markdown",
   "id": "458e2855",
   "metadata": {},
   "source": [
    "The randint() returns random integers from low (inclusive) to high (exclusive)"
   ]
  },
  {
   "cell_type": "code",
   "execution_count": 16,
   "id": "b45702cf",
   "metadata": {},
   "outputs": [
    {
     "data": {
      "text/plain": [
       "array([[7, 9, 3, 3, 3, 3],\n",
       "       [2, 6, 6, 3, 6, 9],\n",
       "       [7, 3, 8, 9, 5, 2]])"
      ]
     },
     "execution_count": 16,
     "metadata": {},
     "output_type": "execute_result"
    }
   ],
   "source": [
    "# create an array of 3 of random numbers between 2 and 9\n",
    "# the randint() will not include 10, the numbers will be generated between 2 and 9 (both inclusive)\n",
    "my_array = np.random.randint(2, 10, (3, 6))\n",
    "\n",
    "# print the array\n",
    "my_array"
   ]
  },
  {
   "cell_type": "markdown",
   "id": "b61e7eaf",
   "metadata": {},
   "source": [
    "#### Create an array using arange()\n",
    "arange() function creates an array of numbers between the given range"
   ]
  },
  {
   "cell_type": "code",
   "execution_count": 28,
   "id": "f7139d90",
   "metadata": {},
   "outputs": [
    {
     "data": {
      "text/plain": [
       "array([10, 11, 12, 13, 14, 15, 16, 17, 18, 19, 20, 21, 22, 23, 24, 25, 26,\n",
       "       27, 28, 29, 30, 31, 32, 33, 34, 35, 36, 37, 38, 39])"
      ]
     },
     "execution_count": 28,
     "metadata": {},
     "output_type": "execute_result"
    }
   ],
   "source": [
    "# create an array of integers between 0 to 10  \n",
    "# start: start value of interval (inclusive). 0 is the default value\n",
    "# stop: stop value of interval (exclusive)\n",
    "# step: returns numbers with given step_size\n",
    "sequence = np.arange(start = 10, stop = 40, step = 1)\n",
    "\n",
    "# print the sequence\n",
    "sequence"
   ]
  },
  {
   "cell_type": "code",
   "execution_count": 30,
   "id": "3b430037",
   "metadata": {},
   "outputs": [
    {
     "data": {
      "text/plain": [
       "array([10, 13, 16, 19, 22, 25, 28, 31, 34, 37])"
      ]
     },
     "execution_count": 30,
     "metadata": {},
     "output_type": "execute_result"
    }
   ],
   "source": [
    "sequence = np.arange(start = 10, stop = 40, step = 3)\n",
    "\n",
    "# print the sequence\n",
    "sequence"
   ]
  },
  {
   "cell_type": "code",
   "execution_count": 31,
   "id": "7bdc45c9",
   "metadata": {},
   "outputs": [
    {
     "data": {
      "text/plain": [
       "array([10, 11, 12, 13, 14, 15, 16, 17, 18, 19, 20, 21, 22, 23, 24, 25, 26,\n",
       "       27, 28, 29, 30, 31, 32, 33, 34, 35, 36, 37, 38, 39])"
      ]
     },
     "execution_count": 31,
     "metadata": {},
     "output_type": "execute_result"
    }
   ],
   "source": [
    "sequence = np.arange(10, 40)\n",
    "\n",
    "# print the sequence\n",
    "sequence"
   ]
  },
  {
   "cell_type": "code",
   "execution_count": null,
   "id": "2bb4e577",
   "metadata": {},
   "outputs": [],
   "source": []
  },
  {
   "cell_type": "markdown",
   "id": "4116fb4c",
   "metadata": {},
   "source": [
    "## Attributes of Array\n",
    "It is defined as a specification that defines a property of an object. Attributes of the numpy array do not have parentheses following them"
   ]
  },
  {
   "cell_type": "markdown",
   "id": "c8bf2787",
   "metadata": {},
   "source": [
    "**ndim:**<br>\n",
    "Prints the dimension (number of axes) of the numpy array"
   ]
  },
  {
   "cell_type": "code",
   "execution_count": 23,
   "id": "53464abe",
   "metadata": {},
   "outputs": [
    {
     "name": "stdout",
     "output_type": "stream",
     "text": [
      "2\n"
     ]
    }
   ],
   "source": [
    "quantity = np.array([(11, 32, 23), (34, 55, 46)])\n",
    "print(quantity.ndim)"
   ]
  },
  {
   "cell_type": "code",
   "execution_count": 22,
   "id": "a7d3a921",
   "metadata": {},
   "outputs": [
    {
     "data": {
      "text/plain": [
       "array([[11, 32, 23],\n",
       "       [34, 55, 46]])"
      ]
     },
     "execution_count": 22,
     "metadata": {},
     "output_type": "execute_result"
    }
   ],
   "source": [
    "quantity"
   ]
  },
  {
   "cell_type": "markdown",
   "id": "b4ab192b",
   "metadata": {},
   "source": [
    "**itemsize:**<br>\n",
    "Prints the memory occupied by each element."
   ]
  },
  {
   "cell_type": "code",
   "execution_count": 34,
   "id": "b63e1447",
   "metadata": {},
   "outputs": [
    {
     "name": "stdout",
     "output_type": "stream",
     "text": [
      "4\n"
     ]
    }
   ],
   "source": [
    "quantity = np.array([(4, 5, 6, 2, 75, 3)])\n",
    "print(quantity.itemsize)"
   ]
  },
  {
   "cell_type": "code",
   "execution_count": 35,
   "id": "1fc896c1",
   "metadata": {},
   "outputs": [
    {
     "name": "stdout",
     "output_type": "stream",
     "text": [
      "8\n"
     ]
    }
   ],
   "source": [
    "x = np.array([126556562516518135121515124654,154645231352,745120456231,76431])\n",
    "print(x.itemsize)"
   ]
  },
  {
   "cell_type": "markdown",
   "id": "62d0ea43",
   "metadata": {},
   "source": [
    "In the above example, each element occupies 4 bytes."
   ]
  },
  {
   "cell_type": "markdown",
   "id": "4228feda",
   "metadata": {},
   "source": [
    "**dtype:**<br>\n",
    "Prints the data type along with the size in bytes."
   ]
  },
  {
   "cell_type": "code",
   "execution_count": 33,
   "id": "a576848a",
   "metadata": {},
   "outputs": [
    {
     "name": "stdout",
     "output_type": "stream",
     "text": [
      "int32\n"
     ]
    }
   ],
   "source": [
    "quantity = np.array([(1, 2, 3)])\n",
    "print(quantity.dtype)"
   ]
  },
  {
   "cell_type": "markdown",
   "id": "277f2c38",
   "metadata": {},
   "source": [
    "**size:**<br>\n",
    "Prints the number of elements in the array.\n",
    "\n",
    "**shape**<br>\n",
    "Prints the number of rows and columns of the array."
   ]
  },
  {
   "cell_type": "code",
   "execution_count": 39,
   "id": "0a1eaa63",
   "metadata": {},
   "outputs": [
    {
     "name": "stdout",
     "output_type": "stream",
     "text": [
      "12\n",
      "2\n",
      "(2, 6)\n"
     ]
    }
   ],
   "source": [
    "quantity = np.array([(1, 2, 3, 4, 5, 6), (1,2,3,4,5,6,)])\n",
    "print(quantity.size)\n",
    "print(len(quantity))\n",
    "print(quantity.shape)"
   ]
  },
  {
   "cell_type": "code",
   "execution_count": null,
   "id": "0c36b0f1",
   "metadata": {},
   "outputs": [],
   "source": []
  },
  {
   "cell_type": "markdown",
   "id": "53646133",
   "metadata": {},
   "source": [
    "## Functions/method:\n",
    "A method is a function that belongs to an object. It takes parameters in the parentheses and returns the modified array."
   ]
  },
  {
   "cell_type": "markdown",
   "id": "e09ea2f3",
   "metadata": {},
   "source": [
    "**reshape:**<br>\n",
    "The reshape() is used to change the number of rows and columns of an array without changing the data.<br>"
   ]
  },
  {
   "cell_type": "code",
   "execution_count": 41,
   "id": "fa464afc",
   "metadata": {},
   "outputs": [
    {
     "name": "stdout",
     "output_type": "stream",
     "text": [
      "The original array:\n",
      " [[ 8  9 10]\n",
      " [11 12 13]]\n"
     ]
    }
   ],
   "source": [
    "# create an array\n",
    "quantity_1 = np.array([(8, 9, 10), (11, 12, 13)])\n",
    "\n",
    "# print the array\n",
    "print(\"The original array:\\n\", quantity_1)"
   ]
  },
  {
   "cell_type": "code",
   "execution_count": 42,
   "id": "01c0b3d6",
   "metadata": {},
   "outputs": [
    {
     "name": "stdout",
     "output_type": "stream",
     "text": [
      "The reshaped array:\n",
      " [[ 8  9]\n",
      " [10 11]\n",
      " [12 13]]\n"
     ]
    }
   ],
   "source": [
    "# change the shape\n",
    "quantity_2 = quantity_1.reshape(3, 2)\n",
    "\n",
    "# print the array\n",
    "print(\"The reshaped array:\\n\", quantity_2)"
   ]
  },
  {
   "cell_type": "code",
   "execution_count": 3,
   "id": "ceae6a47",
   "metadata": {},
   "outputs": [
    {
     "data": {
      "text/plain": [
       "array([ 1,  2,  3,  4,  5,  6,  7,  8,  9, 10, 11, 12, 13, 14, 15, 16, 17,\n",
       "       18, 19, 20])"
      ]
     },
     "execution_count": 3,
     "metadata": {},
     "output_type": "execute_result"
    }
   ],
   "source": [
    "my_array = np.arange(1,21)\n",
    "my_array"
   ]
  },
  {
   "cell_type": "code",
   "execution_count": 5,
   "id": "69fdedb2",
   "metadata": {},
   "outputs": [
    {
     "data": {
      "text/plain": [
       "array([[ 1,  2,  3,  4,  5,  6,  7,  8,  9, 10],\n",
       "       [11, 12, 13, 14, 15, 16, 17, 18, 19, 20]])"
      ]
     },
     "execution_count": 5,
     "metadata": {},
     "output_type": "execute_result"
    }
   ],
   "source": [
    "my_array.reshape(2,10)"
   ]
  },
  {
   "cell_type": "code",
   "execution_count": 8,
   "id": "cbc856f8",
   "metadata": {},
   "outputs": [
    {
     "data": {
      "text/plain": [
       "array([[ 1,  2,  3,  4,  5],\n",
       "       [ 6,  7,  8,  9, 10],\n",
       "       [11, 12, 13, 14, 15],\n",
       "       [16, 17, 18, 19, 20]])"
      ]
     },
     "execution_count": 8,
     "metadata": {},
     "output_type": "execute_result"
    }
   ],
   "source": [
    "my_array.reshape(4,-1)"
   ]
  },
  {
   "cell_type": "markdown",
   "id": "f6287d75",
   "metadata": {},
   "source": [
    "## Indexing Array"
   ]
  },
  {
   "cell_type": "markdown",
   "id": "0be9644b",
   "metadata": {},
   "source": [
    "**Indexing in 1 dimension**"
   ]
  },
  {
   "cell_type": "code",
   "execution_count": 9,
   "id": "d094747b",
   "metadata": {},
   "outputs": [
    {
     "name": "stdout",
     "output_type": "stream",
     "text": [
      "[ 11  22  33  24  57 473]\n"
     ]
    }
   ],
   "source": [
    "# declare an array\n",
    "quantity = np.array([11, 22, 33, 24, 57, 473])\n",
    "\n",
    "# print the array\n",
    "print(quantity)"
   ]
  },
  {
   "cell_type": "markdown",
   "id": "a71291c5",
   "metadata": {},
   "source": [
    "Each element in the array can be accessed by passing the positional index of the element."
   ]
  },
  {
   "cell_type": "code",
   "execution_count": 10,
   "id": "4b46a680",
   "metadata": {},
   "outputs": [
    {
     "name": "stdout",
     "output_type": "stream",
     "text": [
      "11\n"
     ]
    }
   ],
   "source": [
    "# get the 1st element\n",
    "print(quantity[0]) "
   ]
  },
  {
   "cell_type": "code",
   "execution_count": null,
   "id": "d8f5801d",
   "metadata": {},
   "outputs": [],
   "source": [
    "# get the third element\n",
    "print(quantity[2]) "
   ]
  },
  {
   "cell_type": "markdown",
   "id": "f68cf736",
   "metadata": {},
   "source": [
    "**Indexing in 2 dimensions**"
   ]
  },
  {
   "cell_type": "code",
   "execution_count": 11,
   "id": "178b7b26",
   "metadata": {},
   "outputs": [
    {
     "data": {
      "text/plain": [
       "array([[101, 231, 321],\n",
       "       [412, 512, 622],\n",
       "       [712, 821, 912]])"
      ]
     },
     "execution_count": 11,
     "metadata": {},
     "output_type": "execute_result"
    }
   ],
   "source": [
    "# declare a 2D array\n",
    "quantity = np.array([[101, 231, 321],\n",
    "                     [412, 512, 622],\n",
    "                     [712, 821, 912]])\n",
    "\n",
    "# print the array\n",
    "quantity"
   ]
  },
  {
   "cell_type": "markdown",
   "id": "0fe1287b",
   "metadata": {},
   "source": [
    "We can retrieve an element of the 2D array using two indices i and j - i selects the row, and j selects the column:"
   ]
  },
  {
   "cell_type": "code",
   "execution_count": 12,
   "id": "74631ad7",
   "metadata": {},
   "outputs": [
    {
     "name": "stdout",
     "output_type": "stream",
     "text": [
      "821\n"
     ]
    }
   ],
   "source": [
    "# get the element in 3rd row and 2nd column\n",
    "print(quantity[2, 1])"
   ]
  },
  {
   "cell_type": "code",
   "execution_count": 13,
   "id": "74052ba7",
   "metadata": {},
   "outputs": [
    {
     "name": "stdout",
     "output_type": "stream",
     "text": [
      "821\n"
     ]
    }
   ],
   "source": [
    "# we can pass ith row and jth column in separate brackets ([])\n",
    "print(quantity[2][1])"
   ]
  },
  {
   "cell_type": "markdown",
   "id": "f227cb14",
   "metadata": {},
   "source": [
    "**Picking a row or column**\n",
    "\n",
    "We can also select a single row or column "
   ]
  },
  {
   "cell_type": "raw",
   "id": "dc9ca3d8",
   "metadata": {},
   "source": [
    "quantity[r_start: r_stop, c_start: c_stop]"
   ]
  },
  {
   "cell_type": "code",
   "execution_count": 46,
   "id": "2731fc58",
   "metadata": {},
   "outputs": [
    {
     "name": "stdout",
     "output_type": "stream",
     "text": [
      "[712 821 912]\n"
     ]
    }
   ],
   "source": [
    "# pick the second row from the array\n",
    "print(quantity[2])"
   ]
  },
  {
   "cell_type": "code",
   "execution_count": 47,
   "id": "ee6a3db8",
   "metadata": {},
   "outputs": [
    {
     "name": "stdout",
     "output_type": "stream",
     "text": [
      "[321 622 912]\n"
     ]
    }
   ],
   "source": [
    "# pick the second column from the array\n",
    "print(quantity[:, 2])"
   ]
  },
  {
   "cell_type": "code",
   "execution_count": 16,
   "id": "7b03c224",
   "metadata": {},
   "outputs": [
    {
     "name": "stdout",
     "output_type": "stream",
     "text": [
      "[231 512 821]\n"
     ]
    }
   ],
   "source": [
    "print(quantity[0:3, 1])"
   ]
  },
  {
   "cell_type": "code",
   "execution_count": 14,
   "id": "a4401af5",
   "metadata": {},
   "outputs": [
    {
     "name": "stdout",
     "output_type": "stream",
     "text": [
      "231\n"
     ]
    }
   ],
   "source": [
    "print(quantity[0,1])"
   ]
  },
  {
   "cell_type": "markdown",
   "id": "4e844fb9",
   "metadata": {},
   "source": [
    "## Slicing Array\n",
    "\n",
    "**Slicing a 1D array**"
   ]
  },
  {
   "cell_type": "code",
   "execution_count": 17,
   "id": "8f72bc43",
   "metadata": {},
   "outputs": [
    {
     "data": {
      "text/plain": [
       "array([121, 112, 123])"
      ]
     },
     "execution_count": 17,
     "metadata": {},
     "output_type": "execute_result"
    }
   ],
   "source": [
    "# declare an array\n",
    "price = np.array([101, 121, 112, 123, 114])\n",
    "\n",
    "# pick the second, third, and fourth element from the array \n",
    "new_price = price[1:4]\n",
    "\n",
    "# print the array\n",
    "new_price"
   ]
  },
  {
   "cell_type": "markdown",
   "id": "b4cef341",
   "metadata": {},
   "source": [
    "The slice notation specifies a start and end value [start:end], where 'start' is inclusive but 'end' is exclusive."
   ]
  },
  {
   "cell_type": "code",
   "execution_count": 53,
   "id": "6ea4b542",
   "metadata": {},
   "outputs": [
    {
     "data": {
      "text/plain": [
       "array([101, 121, 112])"
      ]
     },
     "execution_count": 53,
     "metadata": {},
     "output_type": "execute_result"
    }
   ],
   "source": [
    "# first three elements\n",
    "price[:3]"
   ]
  },
  {
   "cell_type": "code",
   "execution_count": 54,
   "id": "f9ba7ac2",
   "metadata": {},
   "outputs": [
    {
     "data": {
      "text/plain": [
       "array([112, 123, 114])"
      ]
     },
     "execution_count": 54,
     "metadata": {},
     "output_type": "execute_result"
    }
   ],
   "source": [
    "# all the elements from 112\n",
    "price[2:]"
   ]
  },
  {
   "cell_type": "code",
   "execution_count": 55,
   "id": "d7deeaf9",
   "metadata": {},
   "outputs": [
    {
     "data": {
      "text/plain": [
       "array([101, 121, 112, 123, 114])"
      ]
     },
     "execution_count": 55,
     "metadata": {},
     "output_type": "execute_result"
    }
   ],
   "source": [
    "# get the complete array\n",
    "price[:]"
   ]
  },
  {
   "cell_type": "markdown",
   "id": "989d7ebf",
   "metadata": {},
   "source": [
    "**Slicing a 2D array**"
   ]
  },
  {
   "cell_type": "code",
   "execution_count": 56,
   "id": "4025daa7",
   "metadata": {},
   "outputs": [
    {
     "data": {
      "text/plain": [
       "array([[101, 131, 122, 113, 143],\n",
       "       [145, 165, 137, 318, 193],\n",
       "       [240, 241, 252, 253, 324],\n",
       "       [225, 126, 727, 928, 129]])"
      ]
     },
     "execution_count": 56,
     "metadata": {},
     "output_type": "execute_result"
    }
   ],
   "source": [
    "# declare a 2D array\n",
    "prices = np.array([[101, 131, 122, 113, 143],\n",
    "                   [145, 165, 137, 318, 193],\n",
    "                   [240, 241, 252, 253, 324],\n",
    "                   [225, 126, 727, 928, 129]])\n",
    "\n",
    "# print the array\n",
    "prices"
   ]
  },
  {
   "cell_type": "code",
   "execution_count": 57,
   "id": "57de31f8",
   "metadata": {},
   "outputs": [
    {
     "data": {
      "text/plain": [
       "array([[137, 318],\n",
       "       [252, 253],\n",
       "       [727, 928]])"
      ]
     },
     "execution_count": 57,
     "metadata": {},
     "output_type": "execute_result"
    }
   ],
   "source": [
    "# select all rows except 1st\n",
    "# select 3rd and 4th column\n",
    "prices[1:, 2:4]"
   ]
  },
  {
   "cell_type": "markdown",
   "id": "803663db",
   "metadata": {},
   "source": [
    "**Note:** The index returns an element of the array, the slice returns a list of elements."
   ]
  },
  {
   "cell_type": "code",
   "execution_count": null,
   "id": "adbe402c",
   "metadata": {},
   "outputs": [],
   "source": []
  },
  {
   "cell_type": "markdown",
   "id": "083b6fa6",
   "metadata": {},
   "source": [
    "## 6. Operations on a 1D Array"
   ]
  },
  {
   "cell_type": "code",
   "execution_count": 58,
   "id": "98362c15",
   "metadata": {},
   "outputs": [
    {
     "name": "stdout",
     "output_type": "stream",
     "text": [
      "The first array is [120 230 310 410 150] has length 5\n"
     ]
    }
   ],
   "source": [
    "# declare two arrays\n",
    "# first array\n",
    "prices = np.array([120, 230, 310, 410, 150])\n",
    "\n",
    "# print the array\n",
    "print(\"The first array is\", prices, \"has length\", len(prices))"
   ]
  },
  {
   "cell_type": "code",
   "execution_count": 59,
   "id": "dc45582b",
   "metadata": {},
   "outputs": [
    {
     "name": "stdout",
     "output_type": "stream",
     "text": [
      "The second array is [0 1 2 3 4] has length 5\n"
     ]
    }
   ],
   "source": [
    "# second array\n",
    "quantity = np.arange(5)\n",
    "\n",
    "# print the array\n",
    "print(\"The second array is\", quantity, \"has length\", len(quantity))"
   ]
  },
  {
   "cell_type": "code",
   "execution_count": 60,
   "id": "6dec0325",
   "metadata": {},
   "outputs": [
    {
     "data": {
      "text/plain": [
       "array([120, 231, 312, 413, 154])"
      ]
     },
     "execution_count": 60,
     "metadata": {},
     "output_type": "execute_result"
    }
   ],
   "source": [
    "#Add the two arrays\n",
    "\n",
    "num_array = prices + quantity\n",
    "num_array"
   ]
  },
  {
   "cell_type": "code",
   "execution_count": 61,
   "id": "ce389d09",
   "metadata": {},
   "outputs": [
    {
     "name": "stdout",
     "output_type": "stream",
     "text": [
      "The new array is [1 2 3 5] has length 4\n"
     ]
    }
   ],
   "source": [
    "# declare another array\n",
    "num_array = np.array([1, 2, 3, 5])\n",
    "\n",
    "# print the array\n",
    "print(\"The new array is\", num_array, \"has length\", len(num_array))"
   ]
  },
  {
   "cell_type": "code",
   "execution_count": 62,
   "id": "e2216641",
   "metadata": {},
   "outputs": [
    {
     "ename": "ValueError",
     "evalue": "operands could not be broadcast together with shapes (4,) (5,) ",
     "output_type": "error",
     "traceback": [
      "\u001b[1;31m---------------------------------------------------------------------------\u001b[0m",
      "\u001b[1;31mValueError\u001b[0m                                Traceback (most recent call last)",
      "\u001b[1;32m~\\AppData\\Local\\Temp\\ipykernel_21724\\4289729972.py\u001b[0m in \u001b[0;36m<module>\u001b[1;34m\u001b[0m\n\u001b[1;32m----> 1\u001b[1;33m \u001b[0mnum_array\u001b[0m \u001b[1;33m+\u001b[0m \u001b[0mquantity\u001b[0m\u001b[1;33m\u001b[0m\u001b[1;33m\u001b[0m\u001b[0m\n\u001b[0m",
      "\u001b[1;31mValueError\u001b[0m: operands could not be broadcast together with shapes (4,) (5,) "
     ]
    }
   ],
   "source": [
    "num_array + quantity"
   ]
  },
  {
   "cell_type": "markdown",
   "id": "d4b06ee2",
   "metadata": {},
   "source": [
    "**Remark:** If you try to add arrays with different dimensions, you get an error.  "
   ]
  },
  {
   "cell_type": "code",
   "execution_count": 63,
   "id": "ec12de97",
   "metadata": {},
   "outputs": [
    {
     "data": {
      "text/plain": [
       "array([ 0,  4,  8, 12, 16])"
      ]
     },
     "execution_count": 63,
     "metadata": {},
     "output_type": "execute_result"
    }
   ],
   "source": [
    "# multiply each element in the array by 4 \n",
    "quantity * 4"
   ]
  },
  {
   "cell_type": "code",
   "execution_count": 64,
   "id": "a409f5b9",
   "metadata": {},
   "outputs": [
    {
     "data": {
      "text/plain": [
       "array([ 0,  1,  4,  9, 16], dtype=int32)"
      ]
     },
     "execution_count": 64,
     "metadata": {},
     "output_type": "execute_result"
    }
   ],
   "source": [
    "# get square of each element\n",
    "quantity ** 2"
   ]
  },
  {
   "cell_type": "markdown",
   "id": "90dfb808",
   "metadata": {},
   "source": [
    "**Using Numpy with Comparison Expressions**"
   ]
  },
  {
   "cell_type": "code",
   "execution_count": 65,
   "id": "bfe6830d",
   "metadata": {},
   "outputs": [
    {
     "data": {
      "text/plain": [
       "array([False,  True,  True,  True, False])"
      ]
     },
     "execution_count": 65,
     "metadata": {},
     "output_type": "execute_result"
    }
   ],
   "source": [
    "price_pens = np.array([34, 45, 67, 45, 23])\n",
    "\n",
    "# check which elements are greater than or equal to 40\n",
    "# the comparison condition gives boolean output\n",
    "output_array = price_pens >= 40\n",
    "output_array"
   ]
  },
  {
   "cell_type": "markdown",
   "id": "d7d9011d",
   "metadata": {},
   "source": [
    "Pass the above boolean array to the main array to fetch the values that satisfy the comparison condition."
   ]
  },
  {
   "cell_type": "code",
   "execution_count": 66,
   "id": "4350c402",
   "metadata": {},
   "outputs": [
    {
     "data": {
      "text/plain": [
       "array([45, 67, 45])"
      ]
     },
     "execution_count": 66,
     "metadata": {},
     "output_type": "execute_result"
    }
   ],
   "source": [
    "# elements greater than or equal to 40\n",
    "price_pens[output_array]"
   ]
  },
  {
   "cell_type": "markdown",
   "id": "2dd275a2",
   "metadata": {},
   "source": [
    "Rather than creating a separate array of booleans, you can specify the comparison operation directly on the main array."
   ]
  },
  {
   "cell_type": "code",
   "execution_count": 67,
   "id": "84250365",
   "metadata": {},
   "outputs": [
    {
     "data": {
      "text/plain": [
       "array([45, 67, 45])"
      ]
     },
     "execution_count": 67,
     "metadata": {},
     "output_type": "execute_result"
    }
   ],
   "source": [
    "# print my_array\n",
    "price_pens\n",
    "\n",
    "# print the elements greater than or equal to 40\n",
    "price_pens[price_pens >= 40]"
   ]
  },
  {
   "cell_type": "code",
   "execution_count": null,
   "id": "a90dca69",
   "metadata": {},
   "outputs": [],
   "source": []
  },
  {
   "cell_type": "markdown",
   "id": "d40c4ba5",
   "metadata": {},
   "source": [
    "## 7. Operations on a 2D Array\n",
    "\n",
    "Let’s create 2 two-dimensional arrays, array_a and array_b."
   ]
  },
  {
   "cell_type": "code",
   "execution_count": 68,
   "id": "1bbe59df",
   "metadata": {},
   "outputs": [
    {
     "name": "stdout",
     "output_type": "stream",
     "text": [
      "The first array is \n",
      " [[33 12]\n",
      " [70 61]]\n"
     ]
    }
   ],
   "source": [
    "# declare two arrays\n",
    "# first array\n",
    "quanitity_A = np.array([[33, 12], [70, 61]])\n",
    "\n",
    "# print the array\n",
    "print(\"The first array is \\n\", quanitity_A)"
   ]
  },
  {
   "cell_type": "code",
   "execution_count": 69,
   "id": "351db997",
   "metadata": {},
   "outputs": [
    {
     "name": "stdout",
     "output_type": "stream",
     "text": [
      "The second array is \n",
      " [[43 51]\n",
      " [72 81]]\n"
     ]
    }
   ],
   "source": [
    "# second array\n",
    "quanitity_B  = np.array([[43, 51], [72, 81]])\n",
    "\n",
    "# print the array\n",
    "print(\"The second array is \\n\", quanitity_B)"
   ]
  },
  {
   "cell_type": "markdown",
   "id": "880139df",
   "metadata": {},
   "source": [
    "Add the two array"
   ]
  },
  {
   "cell_type": "code",
   "execution_count": 70,
   "id": "d75ff7ae",
   "metadata": {},
   "outputs": [
    {
     "data": {
      "text/plain": [
       "array([[ 76,  63],\n",
       "       [142, 142]])"
      ]
     },
     "execution_count": 70,
     "metadata": {},
     "output_type": "execute_result"
    }
   ],
   "source": [
    "# add the 2 arrays\n",
    "quanitity_A + quanitity_B"
   ]
  },
  {
   "cell_type": "markdown",
   "id": "acf884bc",
   "metadata": {},
   "source": [
    "Perform multiplication on array_a and array_b."
   ]
  },
  {
   "cell_type": "code",
   "execution_count": 71,
   "id": "f3082278",
   "metadata": {},
   "outputs": [
    {
     "data": {
      "text/plain": [
       "array([[1419,  612],\n",
       "       [5040, 4941]])"
      ]
     },
     "execution_count": 71,
     "metadata": {},
     "output_type": "execute_result"
    }
   ],
   "source": [
    "# multiply the 2 arrays\n",
    "quanitity_A * quanitity_B"
   ]
  },
  {
   "cell_type": "markdown",
   "id": "bf852359",
   "metadata": {},
   "source": [
    "'+=' operation on the `quanitity_A` is equivalent to adding a specified value to each element of the array. The original array gets modified using this operation.\n"
   ]
  },
  {
   "cell_type": "code",
   "execution_count": null,
   "id": "b98ca80e",
   "metadata": {},
   "outputs": [],
   "source": [
    "# add 2 to each element\n",
    "quanitity_A += 2\n",
    "quanitity_A "
   ]
  },
  {
   "cell_type": "markdown",
   "id": "307f67cc",
   "metadata": {},
   "source": [
    "Similarly, you can use other arithmetic operations like -= and *="
   ]
  },
  {
   "cell_type": "code",
   "execution_count": null,
   "id": "001a323f",
   "metadata": {},
   "outputs": [],
   "source": [
    "# subtract 2 from each element \n",
    "quanitity_A -= 2\n",
    "\n",
    "# print the array\n",
    "quanitity_A "
   ]
  },
  {
   "cell_type": "code",
   "execution_count": null,
   "id": "3066e99a",
   "metadata": {},
   "outputs": [],
   "source": [
    "# multiply 2 to each element \n",
    "quanitity_A *= 2\n",
    "\n",
    "# print the array\n",
    "quanitity_A "
   ]
  },
  {
   "cell_type": "markdown",
   "id": "4de9b32e",
   "metadata": {},
   "source": [
    "**Matrix Multiplication**<br>\n",
    "\n",
    "Use '@' operator to perform matrix multiplication (or matrix product)."
   ]
  },
  {
   "cell_type": "code",
   "execution_count": 72,
   "id": "fab3a29d",
   "metadata": {},
   "outputs": [
    {
     "data": {
      "text/plain": [
       "array([[2283, 2655],\n",
       "       [7402, 8511]])"
      ]
     },
     "execution_count": 72,
     "metadata": {},
     "output_type": "execute_result"
    }
   ],
   "source": [
    "quanitity_A @ quanitity_B"
   ]
  },
  {
   "cell_type": "markdown",
   "id": "d5abf5d4",
   "metadata": {},
   "source": [
    "The same output can also be obtained by the dot()."
   ]
  },
  {
   "cell_type": "code",
   "execution_count": 73,
   "id": "f81f2be5",
   "metadata": {},
   "outputs": [
    {
     "data": {
      "text/plain": [
       "array([[2283, 2655],\n",
       "       [7402, 8511]])"
      ]
     },
     "execution_count": 73,
     "metadata": {},
     "output_type": "execute_result"
    }
   ],
   "source": [
    "quanitity_A.dot(quanitity_B)"
   ]
  },
  {
   "cell_type": "code",
   "execution_count": null,
   "id": "6b6b5bbf",
   "metadata": {},
   "outputs": [],
   "source": []
  },
  {
   "cell_type": "markdown",
   "id": "e659e993",
   "metadata": {},
   "source": [
    "## 8. Arithmetic Functions in Numpy"
   ]
  },
  {
   "cell_type": "code",
   "execution_count": 74,
   "id": "4f6b47cd",
   "metadata": {},
   "outputs": [
    {
     "data": {
      "text/plain": [
       "array([5, 7, 8, 2, 4])"
      ]
     },
     "execution_count": 74,
     "metadata": {},
     "output_type": "execute_result"
    }
   ],
   "source": [
    "# given array\n",
    "performance_scores = np.array([5, 7, 8, 2, 4])\n",
    "\n",
    "# print the array\n",
    "performance_scores"
   ]
  },
  {
   "cell_type": "markdown",
   "id": "7c5d1dc4",
   "metadata": {},
   "source": [
    "**sum():**<br>\n",
    "The sum() function adds all the values in the array and gives a scalar output."
   ]
  },
  {
   "cell_type": "code",
   "execution_count": 75,
   "id": "e72b474e",
   "metadata": {},
   "outputs": [
    {
     "data": {
      "text/plain": [
       "26"
      ]
     },
     "execution_count": 75,
     "metadata": {},
     "output_type": "execute_result"
    }
   ],
   "source": [
    "# add all the elements of 'performance_scores'\n",
    "performance_scores.sum()"
   ]
  },
  {
   "cell_type": "markdown",
   "id": "bddcc5c8",
   "metadata": {},
   "source": [
    "**min():**<br>\n",
    "The min function finds the lowest value in the array."
   ]
  },
  {
   "cell_type": "code",
   "execution_count": 76,
   "id": "a97869bb",
   "metadata": {},
   "outputs": [
    {
     "data": {
      "text/plain": [
       "2"
      ]
     },
     "execution_count": 76,
     "metadata": {},
     "output_type": "execute_result"
    }
   ],
   "source": [
    "# find minimum of 'performance_scores'\n",
    "performance_scores.min()"
   ]
  },
  {
   "cell_type": "markdown",
   "id": "ae95c230",
   "metadata": {},
   "source": [
    "**power():**<br>\n",
    "The power function raises the numbers in the array to the given value."
   ]
  },
  {
   "cell_type": "code",
   "execution_count": 77,
   "id": "5f450a2b",
   "metadata": {},
   "outputs": [
    {
     "data": {
      "text/plain": [
       "array([125, 343, 512,   8,  64], dtype=int32)"
      ]
     },
     "execution_count": 77,
     "metadata": {},
     "output_type": "execute_result"
    }
   ],
   "source": [
    "# get cube of elements of 'performance_scores'\n",
    "np.power(performance_scores, 3)"
   ]
  },
  {
   "cell_type": "markdown",
   "id": "3bc1e844",
   "metadata": {},
   "source": [
    "**Using the axis parameter**<br>\n",
    "Use the axis parameter with value 0, to find the sum of all the values in a single column."
   ]
  },
  {
   "cell_type": "code",
   "execution_count": 78,
   "id": "58c51f17",
   "metadata": {},
   "outputs": [
    {
     "data": {
      "text/plain": [
       "array([[4, 8, 3],\n",
       "       [8, 7, 4]])"
      ]
     },
     "execution_count": 78,
     "metadata": {},
     "output_type": "execute_result"
    }
   ],
   "source": [
    "# create a 2D array of random integers\n",
    "num_array = np.random.randint(1, 10, (2, 3))\n",
    "num_array"
   ]
  },
  {
   "cell_type": "code",
   "execution_count": 79,
   "id": "acbe121c",
   "metadata": {},
   "outputs": [
    {
     "data": {
      "text/plain": [
       "array([12, 15,  7])"
      ]
     },
     "execution_count": 79,
     "metadata": {},
     "output_type": "execute_result"
    }
   ],
   "source": [
    "# obtain the sum over columns\n",
    "num_array.sum(axis = 0)"
   ]
  },
  {
   "cell_type": "markdown",
   "id": "31350ffc",
   "metadata": {},
   "source": [
    "Similarly, to find the lowest value across a particular row, use the axis parameter with a value ‘1'."
   ]
  },
  {
   "cell_type": "code",
   "execution_count": 80,
   "id": "ea716ca1",
   "metadata": {},
   "outputs": [
    {
     "data": {
      "text/plain": [
       "array([15, 19])"
      ]
     },
     "execution_count": 80,
     "metadata": {},
     "output_type": "execute_result"
    }
   ],
   "source": [
    "# obtain the sum over rows\n",
    "num_array.sum(axis = 1)"
   ]
  },
  {
   "cell_type": "code",
   "execution_count": null,
   "id": "e08c45a8",
   "metadata": {},
   "outputs": [],
   "source": [
    "# obtain the min over rows\n",
    "num_array.min(axis = 1)"
   ]
  },
  {
   "cell_type": "code",
   "execution_count": null,
   "id": "e0cdb2f9",
   "metadata": {},
   "outputs": [],
   "source": [
    "# obtain the max over columns\n",
    "num_array.max(axis = 0)"
   ]
  },
  {
   "cell_type": "code",
   "execution_count": null,
   "id": "aa153e41",
   "metadata": {},
   "outputs": [],
   "source": []
  },
  {
   "cell_type": "markdown",
   "id": "aa76818e",
   "metadata": {},
   "source": [
    "## 9. Concatenation of Array\n",
    "\n",
    "The arrays can be concatenated only if they have the same shape, except in the dimension corresponding to the axis of concatenation.\n",
    "\n",
    "**Concatenate 1D array**"
   ]
  },
  {
   "cell_type": "code",
   "execution_count": 3,
   "id": "8e919d0c",
   "metadata": {},
   "outputs": [
    {
     "data": {
      "text/plain": [
       "array([11, 22, 13, 23, 22, 12])"
      ]
     },
     "execution_count": 3,
     "metadata": {},
     "output_type": "execute_result"
    }
   ],
   "source": [
    "# concatenate two 1D arrays\n",
    "# production on day 1 \n",
    "production_day_1 = np.array([11, 22, 13])\n",
    "\n",
    "# production on day 2\n",
    "production_day_2 = np.array([23, 22, 12])\n",
    "\n",
    "# concatenate the two array giving the production for 2 days\n",
    "np.concatenate([production_day_1, production_day_2])"
   ]
  },
  {
   "cell_type": "markdown",
   "id": "9297995a",
   "metadata": {},
   "source": [
    "You can also concatenate more than two arrays at once."
   ]
  },
  {
   "cell_type": "code",
   "execution_count": 82,
   "id": "ec612c87",
   "metadata": {},
   "outputs": [
    {
     "data": {
      "text/plain": [
       "array([11, 22, 13, 23, 22, 12, 23, 45])"
      ]
     },
     "execution_count": 82,
     "metadata": {},
     "output_type": "execute_result"
    }
   ],
   "source": [
    "# production on day 3\n",
    "production_day_3 = np.array([23, 45])\n",
    "\n",
    "# concatenate the two array giving the production for 3 days\n",
    "total_produce = np.concatenate([production_day_1, production_day_2, production_day_3])\n",
    "\n",
    "# print total_produce\n",
    "total_produce"
   ]
  },
  {
   "cell_type": "markdown",
   "id": "21877c3a",
   "metadata": {},
   "source": [
    "**Concatenate 2D array**"
   ]
  },
  {
   "cell_type": "code",
   "execution_count": 3,
   "id": "0f971b76",
   "metadata": {},
   "outputs": [
    {
     "data": {
      "text/plain": [
       "array([[1, 2, 3],\n",
       "       [4, 5, 6]])"
      ]
     },
     "execution_count": 3,
     "metadata": {},
     "output_type": "execute_result"
    }
   ],
   "source": [
    "# create a 2D array\n",
    "scores_player_1 = np.array([[1, 2, 3],\n",
    "                 [4, 5, 6]])\n",
    "scores_player_1"
   ]
  },
  {
   "cell_type": "code",
   "execution_count": 4,
   "id": "26c3ab5f",
   "metadata": {},
   "outputs": [
    {
     "data": {
      "text/plain": [
       "array([[5, 6, 3],\n",
       "       [4, 9, 6]])"
      ]
     },
     "execution_count": 4,
     "metadata": {},
     "output_type": "execute_result"
    }
   ],
   "source": [
    "# create a 2D array\n",
    "scores_player_2 = np.array([[5, 6, 3],\n",
    "                 [4, 9, 6]])\n",
    "scores_player_2"
   ]
  },
  {
   "cell_type": "markdown",
   "id": "bbc569b0",
   "metadata": {},
   "source": [
    "**concatenate along the first axis**"
   ]
  },
  {
   "cell_type": "code",
   "execution_count": 85,
   "id": "b3947590",
   "metadata": {},
   "outputs": [
    {
     "data": {
      "text/plain": [
       "array([[1, 2, 3],\n",
       "       [4, 5, 6],\n",
       "       [5, 6, 3],\n",
       "       [4, 9, 6]])"
      ]
     },
     "execution_count": 85,
     "metadata": {},
     "output_type": "execute_result"
    }
   ],
   "source": [
    "# by default concatenate() is along 'axis = 0'\n",
    "np.concatenate([scores_player_1, scores_player_2])"
   ]
  },
  {
   "cell_type": "markdown",
   "id": "1c3ffb62",
   "metadata": {},
   "source": [
    "**concatenate along the second axis**"
   ]
  },
  {
   "cell_type": "code",
   "execution_count": 5,
   "id": "90411ab7",
   "metadata": {},
   "outputs": [
    {
     "data": {
      "text/plain": [
       "array([[1, 2, 3, 5, 6, 3],\n",
       "       [4, 5, 6, 4, 9, 6]])"
      ]
     },
     "execution_count": 5,
     "metadata": {},
     "output_type": "execute_result"
    }
   ],
   "source": [
    "np.concatenate([scores_player_1, scores_player_2], axis=1)"
   ]
  },
  {
   "cell_type": "markdown",
   "id": "97319b0a",
   "metadata": {},
   "source": [
    "**Concatenate 1D and 2D array**"
   ]
  },
  {
   "cell_type": "code",
   "execution_count": 87,
   "id": "94270543",
   "metadata": {},
   "outputs": [
    {
     "ename": "ValueError",
     "evalue": "all the input arrays must have same number of dimensions, but the array at index 0 has 1 dimension(s) and the array at index 1 has 2 dimension(s)",
     "output_type": "error",
     "traceback": [
      "\u001b[1;31m---------------------------------------------------------------------------\u001b[0m",
      "\u001b[1;31mValueError\u001b[0m                                Traceback (most recent call last)",
      "\u001b[1;32m~\\AppData\\Local\\Temp\\ipykernel_21724\\3461965612.py\u001b[0m in \u001b[0;36m<module>\u001b[1;34m\u001b[0m\n\u001b[0;32m      7\u001b[0m                  [4, 9, 6]])\n\u001b[0;32m      8\u001b[0m \u001b[1;33m\u001b[0m\u001b[0m\n\u001b[1;32m----> 9\u001b[1;33m \u001b[0mnp\u001b[0m\u001b[1;33m.\u001b[0m\u001b[0mconcatenate\u001b[0m\u001b[1;33m(\u001b[0m\u001b[1;33m(\u001b[0m\u001b[0mnum_array_1D\u001b[0m\u001b[1;33m,\u001b[0m \u001b[0mnum_array_2D\u001b[0m\u001b[1;33m)\u001b[0m\u001b[1;33m,\u001b[0m \u001b[0maxis\u001b[0m \u001b[1;33m=\u001b[0m \u001b[1;36m0\u001b[0m\u001b[1;33m)\u001b[0m\u001b[1;33m\u001b[0m\u001b[1;33m\u001b[0m\u001b[0m\n\u001b[0m",
      "\u001b[1;32m<__array_function__ internals>\u001b[0m in \u001b[0;36mconcatenate\u001b[1;34m(*args, **kwargs)\u001b[0m\n",
      "\u001b[1;31mValueError\u001b[0m: all the input arrays must have same number of dimensions, but the array at index 0 has 1 dimension(s) and the array at index 1 has 2 dimension(s)"
     ]
    }
   ],
   "source": [
    "# concatenate the 1D and 2D arrays\n",
    "# consider a 1D array -- 'num_array_1D'\n",
    "num_array_1D = np.array([23, 45])\n",
    "\n",
    "# consider a 2D array -- 'num_array_2D'\n",
    "num_array_2D = np.array([[5, 6, 3],\n",
    "                 [4, 9, 6]])\n",
    "\n",
    "np.concatenate((num_array_1D, num_array_2D), axis = 0)"
   ]
  },
  {
   "cell_type": "markdown",
   "id": "4d3de464",
   "metadata": {},
   "source": [
    "**Note:** One can not concatenate the arrays with different dimensions"
   ]
  },
  {
   "cell_type": "code",
   "execution_count": null,
   "id": "180c5cf7",
   "metadata": {},
   "outputs": [],
   "source": []
  },
  {
   "cell_type": "markdown",
   "id": "16b187fc",
   "metadata": {},
   "source": [
    "## 10. Stacking of Array\n",
    "\n",
    "Stacking can be used to join 2 or more arrays along the different axes. This method can also be used to create higher-dimensional arrays using lower-dimensional arrays. \n",
    "Numpy vstack, Numpy hstack, and Numpy concatenate are all similar functions to join the arrays."
   ]
  },
  {
   "cell_type": "code",
   "execution_count": 6,
   "id": "55213d43",
   "metadata": {},
   "outputs": [
    {
     "name": "stdout",
     "output_type": "stream",
     "text": [
      "[[1 2 3]\n",
      " [4 5 6]]\n",
      "[[ 7  8  9]\n",
      " [10 11 12]]\n"
     ]
    }
   ],
   "source": [
    "# create two arrays\n",
    "num_array_1 = np.array([[1, 2, 3], [4, 5, 6]])\n",
    "num_array_2 = np.array([[7, 8, 9], [10, 11, 12]])\n",
    "print(num_array_1) \n",
    "print(num_array_2)"
   ]
  },
  {
   "cell_type": "markdown",
   "id": "4412a606",
   "metadata": {},
   "source": [
    "**NumPy stack** enables you to combine arrays along the specified axis. We can create a higher-dimensional array using stack()."
   ]
  },
  {
   "cell_type": "code",
   "execution_count": 7,
   "id": "d154b817",
   "metadata": {},
   "outputs": [
    {
     "data": {
      "text/plain": [
       "array([[[ 1,  2,  3],\n",
       "        [ 7,  8,  9]],\n",
       "\n",
       "       [[ 4,  5,  6],\n",
       "        [10, 11, 12]]])"
      ]
     },
     "execution_count": 7,
     "metadata": {},
     "output_type": "execute_result"
    }
   ],
   "source": [
    "# stack arrays along the 1st axis\n",
    "array_stack = np.stack((num_array_1, num_array_2), axis=1)\n",
    "array_stack"
   ]
  },
  {
   "cell_type": "markdown",
   "id": "dfe8948d",
   "metadata": {},
   "source": [
    "**NumPy hstack** enables you to combine arrays horizontally."
   ]
  },
  {
   "cell_type": "code",
   "execution_count": 8,
   "id": "6c9f9149",
   "metadata": {},
   "outputs": [
    {
     "data": {
      "text/plain": [
       "array([[ 1,  2,  3,  7,  8,  9],\n",
       "       [ 4,  5,  6, 10, 11, 12]])"
      ]
     },
     "execution_count": 8,
     "metadata": {},
     "output_type": "execute_result"
    }
   ],
   "source": [
    "# stack arrays in sequence horizontally (column wise)\n",
    "array_hstack = np.hstack((num_array_1, num_array_2))\n",
    "array_hstack"
   ]
  },
  {
   "cell_type": "markdown",
   "id": "38298e31",
   "metadata": {},
   "source": [
    "**Numpy vstack** enables you to combine arrays vertically."
   ]
  },
  {
   "cell_type": "code",
   "execution_count": 8,
   "id": "1713d27d",
   "metadata": {},
   "outputs": [
    {
     "data": {
      "text/plain": [
       "array([[ 1,  2,  3],\n",
       "       [ 4,  5,  6],\n",
       "       [ 7,  8,  9],\n",
       "       [10, 11, 12]])"
      ]
     },
     "execution_count": 8,
     "metadata": {},
     "output_type": "execute_result"
    }
   ],
   "source": [
    "# stack arrays in sequence vertically (row wise)\n",
    "array_vstack = np.vstack([num_array_1, num_array_2])\n",
    "array_vstack"
   ]
  },
  {
   "cell_type": "markdown",
   "id": "d2f9cd55",
   "metadata": {},
   "source": [
    "**Numpy dstack** will stack arrays along the third axis. It converts each array as the column of the modified array."
   ]
  },
  {
   "cell_type": "code",
   "execution_count": 9,
   "id": "e3333b7f",
   "metadata": {},
   "outputs": [
    {
     "data": {
      "text/plain": [
       "array([[[ 1,  7],\n",
       "        [ 2,  8],\n",
       "        [ 3,  9]],\n",
       "\n",
       "       [[ 4, 10],\n",
       "        [ 5, 11],\n",
       "        [ 6, 12]]])"
      ]
     },
     "execution_count": 9,
     "metadata": {},
     "output_type": "execute_result"
    }
   ],
   "source": [
    "# stack arrays in sequence depth wise (along the third axis)\n",
    "array_dstack = np.dstack((num_array_1, num_array_2))\n",
    "array_dstack"
   ]
  },
  {
   "cell_type": "markdown",
   "id": "fbd83b2d",
   "metadata": {},
   "source": [
    "**Numpy column_stack** enables you to stack 1D array as 2D array."
   ]
  },
  {
   "cell_type": "code",
   "execution_count": 10,
   "id": "270ad4de",
   "metadata": {},
   "outputs": [],
   "source": [
    "# create two 1D array\n",
    "num_array_1 = np.array([1, 4, 8])\n",
    "num_array_2 = np.array([2, 5, 7])"
   ]
  },
  {
   "cell_type": "code",
   "execution_count": 11,
   "id": "46b1e428",
   "metadata": {},
   "outputs": [
    {
     "data": {
      "text/plain": [
       "array([[1, 2],\n",
       "       [4, 5],\n",
       "       [8, 7]])"
      ]
     },
     "execution_count": 11,
     "metadata": {},
     "output_type": "execute_result"
    }
   ],
   "source": [
    "# stack arrays as 2D array\n",
    "array_vstack = np.column_stack([num_array_1, num_array_2])\n",
    "array_vstack"
   ]
  },
  {
   "cell_type": "code",
   "execution_count": 12,
   "id": "266d2068",
   "metadata": {},
   "outputs": [
    {
     "data": {
      "text/plain": [
       "2"
      ]
     },
     "execution_count": 12,
     "metadata": {},
     "output_type": "execute_result"
    }
   ],
   "source": [
    "# check the dimension of stacked array\n",
    "np.ndim(array_vstack)"
   ]
  },
  {
   "cell_type": "markdown",
   "id": "a5836fe9",
   "metadata": {},
   "source": [
    "**block()** is used to assemble array from a nested list of blocks"
   ]
  },
  {
   "cell_type": "code",
   "execution_count": 4,
   "id": "87231eed",
   "metadata": {},
   "outputs": [
    {
     "data": {
      "text/plain": [
       "array([['4', '1', '2', '3', '7', '4', '5', '6'],\n",
       "       ['6', '2', '6', '4', '3', '2', '6', '9']], dtype='<U11')"
      ]
     },
     "execution_count": 4,
     "metadata": {},
     "output_type": "execute_result"
    }
   ],
   "source": [
    "# create a block matrix using 1D array\n",
    "\n",
    "m1 = np.array(['4','1','2','3'])\n",
    "m2 = np.array([7,4,5,6])\n",
    "m3 = np.array([6,2,6,4])\n",
    "m4 = np.array([3,2,6,9])\n",
    "\n",
    "# 2D matrix using block()\n",
    "np.block([[m1, m2],\n",
    "          [m3, m4]])"
   ]
  },
  {
   "cell_type": "code",
   "execution_count": null,
   "id": "c7cd98f1",
   "metadata": {},
   "outputs": [],
   "source": []
  },
  {
   "cell_type": "markdown",
   "id": "d894f360",
   "metadata": {},
   "source": [
    "## 11. Splitting of Array\n",
    "\n",
    "Splitting is used to split the array into multiple sub-arrays. It is the opposite of concatenation, which is implemented by functions like split(), hsplit(), and so on.\n",
    "\n",
    "\n",
    "**split():**"
   ]
  },
  {
   "cell_type": "code",
   "execution_count": 18,
   "id": "73aa3501",
   "metadata": {},
   "outputs": [
    {
     "data": {
      "text/plain": [
       "[array([0, 1, 2, 3]), array([4, 5, 6, 7])]"
      ]
     },
     "execution_count": 18,
     "metadata": {},
     "output_type": "execute_result"
    }
   ],
   "source": [
    "# declare an array\n",
    "array_x = np.arange(8) \n",
    "\n",
    "# split the array into sub-arrays\n",
    "np.split(array_x, 2)"
   ]
  },
  {
   "cell_type": "code",
   "execution_count": 14,
   "id": "b9aa760f",
   "metadata": {},
   "outputs": [
    {
     "ename": "ValueError",
     "evalue": "array split does not result in an equal division",
     "output_type": "error",
     "traceback": [
      "\u001b[1;31m---------------------------------------------------------------------------\u001b[0m",
      "\u001b[1;31mValueError\u001b[0m                                Traceback (most recent call last)",
      "\u001b[1;32m~\\AppData\\Local\\Temp\\ipykernel_24008\\3594510123.py\u001b[0m in \u001b[0;36m<module>\u001b[1;34m\u001b[0m\n\u001b[0;32m      3\u001b[0m \u001b[1;33m\u001b[0m\u001b[0m\n\u001b[0;32m      4\u001b[0m \u001b[1;31m# split the array into sub-arrays\u001b[0m\u001b[1;33m\u001b[0m\u001b[1;33m\u001b[0m\u001b[0m\n\u001b[1;32m----> 5\u001b[1;33m \u001b[0mnp\u001b[0m\u001b[1;33m.\u001b[0m\u001b[0msplit\u001b[0m\u001b[1;33m(\u001b[0m\u001b[0marray_x\u001b[0m\u001b[1;33m,\u001b[0m \u001b[1;36m2\u001b[0m\u001b[1;33m)\u001b[0m\u001b[1;33m\u001b[0m\u001b[1;33m\u001b[0m\u001b[0m\n\u001b[0m",
      "\u001b[1;32m<__array_function__ internals>\u001b[0m in \u001b[0;36msplit\u001b[1;34m(*args, **kwargs)\u001b[0m\n",
      "\u001b[1;32m~\\anaconda3\\lib\\site-packages\\numpy\\lib\\shape_base.py\u001b[0m in \u001b[0;36msplit\u001b[1;34m(ary, indices_or_sections, axis)\u001b[0m\n\u001b[0;32m    870\u001b[0m         \u001b[0mN\u001b[0m \u001b[1;33m=\u001b[0m \u001b[0mary\u001b[0m\u001b[1;33m.\u001b[0m\u001b[0mshape\u001b[0m\u001b[1;33m[\u001b[0m\u001b[0maxis\u001b[0m\u001b[1;33m]\u001b[0m\u001b[1;33m\u001b[0m\u001b[1;33m\u001b[0m\u001b[0m\n\u001b[0;32m    871\u001b[0m         \u001b[1;32mif\u001b[0m \u001b[0mN\u001b[0m \u001b[1;33m%\u001b[0m \u001b[0msections\u001b[0m\u001b[1;33m:\u001b[0m\u001b[1;33m\u001b[0m\u001b[1;33m\u001b[0m\u001b[0m\n\u001b[1;32m--> 872\u001b[1;33m             raise ValueError(\n\u001b[0m\u001b[0;32m    873\u001b[0m                 'array split does not result in an equal division') from None\n\u001b[0;32m    874\u001b[0m     \u001b[1;32mreturn\u001b[0m \u001b[0marray_split\u001b[0m\u001b[1;33m(\u001b[0m\u001b[0mary\u001b[0m\u001b[1;33m,\u001b[0m \u001b[0mindices_or_sections\u001b[0m\u001b[1;33m,\u001b[0m \u001b[0maxis\u001b[0m\u001b[1;33m)\u001b[0m\u001b[1;33m\u001b[0m\u001b[1;33m\u001b[0m\u001b[0m\n",
      "\u001b[1;31mValueError\u001b[0m: array split does not result in an equal division"
     ]
    }
   ],
   "source": [
    "# declare an array\n",
    "array_x = np.arange(7) \n",
    "\n",
    "# split the array into sub-arrays\n",
    "np.split(array_x, 2)"
   ]
  },
  {
   "cell_type": "markdown",
   "id": "e2327e22",
   "metadata": {},
   "source": [
    "**Split the 1D array at positions indicated**"
   ]
  },
  {
   "cell_type": "code",
   "execution_count": 19,
   "id": "589f63c4",
   "metadata": {},
   "outputs": [
    {
     "name": "stdout",
     "output_type": "stream",
     "text": [
      "[array([0, 1, 2, 3, 4]), array([5, 6]), array([7])]\n"
     ]
    }
   ],
   "source": [
    "# the split occurs at 5th and 7th indices\n",
    "array_y = np.split(array_x, [5, 7])\n",
    "\n",
    "# print array\n",
    "print(array_y)"
   ]
  },
  {
   "cell_type": "code",
   "execution_count": 16,
   "id": "b720edc0",
   "metadata": {},
   "outputs": [
    {
     "ename": "ValueError",
     "evalue": "array split does not result in an equal division",
     "output_type": "error",
     "traceback": [
      "\u001b[1;31m---------------------------------------------------------------------------\u001b[0m",
      "\u001b[1;31mValueError\u001b[0m                                Traceback (most recent call last)",
      "\u001b[1;32m~\\AppData\\Local\\Temp\\ipykernel_24008\\1331072574.py\u001b[0m in \u001b[0;36m<module>\u001b[1;34m\u001b[0m\n\u001b[0;32m      1\u001b[0m \u001b[1;31m# split 'array_x' into 3 sub-arrays\u001b[0m\u001b[1;33m\u001b[0m\u001b[1;33m\u001b[0m\u001b[0m\n\u001b[1;32m----> 2\u001b[1;33m \u001b[0mnp\u001b[0m\u001b[1;33m.\u001b[0m\u001b[0msplit\u001b[0m\u001b[1;33m(\u001b[0m\u001b[0marray_x\u001b[0m\u001b[1;33m,\u001b[0m \u001b[1;36m3\u001b[0m\u001b[1;33m)\u001b[0m\u001b[1;33m\u001b[0m\u001b[1;33m\u001b[0m\u001b[0m\n\u001b[0m",
      "\u001b[1;32m<__array_function__ internals>\u001b[0m in \u001b[0;36msplit\u001b[1;34m(*args, **kwargs)\u001b[0m\n",
      "\u001b[1;32m~\\anaconda3\\lib\\site-packages\\numpy\\lib\\shape_base.py\u001b[0m in \u001b[0;36msplit\u001b[1;34m(ary, indices_or_sections, axis)\u001b[0m\n\u001b[0;32m    870\u001b[0m         \u001b[0mN\u001b[0m \u001b[1;33m=\u001b[0m \u001b[0mary\u001b[0m\u001b[1;33m.\u001b[0m\u001b[0mshape\u001b[0m\u001b[1;33m[\u001b[0m\u001b[0maxis\u001b[0m\u001b[1;33m]\u001b[0m\u001b[1;33m\u001b[0m\u001b[1;33m\u001b[0m\u001b[0m\n\u001b[0;32m    871\u001b[0m         \u001b[1;32mif\u001b[0m \u001b[0mN\u001b[0m \u001b[1;33m%\u001b[0m \u001b[0msections\u001b[0m\u001b[1;33m:\u001b[0m\u001b[1;33m\u001b[0m\u001b[1;33m\u001b[0m\u001b[0m\n\u001b[1;32m--> 872\u001b[1;33m             raise ValueError(\n\u001b[0m\u001b[0;32m    873\u001b[0m                 'array split does not result in an equal division') from None\n\u001b[0;32m    874\u001b[0m     \u001b[1;32mreturn\u001b[0m \u001b[0marray_split\u001b[0m\u001b[1;33m(\u001b[0m\u001b[0mary\u001b[0m\u001b[1;33m,\u001b[0m \u001b[0mindices_or_sections\u001b[0m\u001b[1;33m,\u001b[0m \u001b[0maxis\u001b[0m\u001b[1;33m)\u001b[0m\u001b[1;33m\u001b[0m\u001b[1;33m\u001b[0m\u001b[0m\n",
      "\u001b[1;31mValueError\u001b[0m: array split does not result in an equal division"
     ]
    }
   ],
   "source": [
    "# split 'array_x' into 3 sub-arrays\n",
    "np.split(array_x, 3)"
   ]
  },
  {
   "cell_type": "markdown",
   "id": "d8928f0b",
   "metadata": {},
   "source": [
    "**Remark:** The split() function does not allow the integer (N) as the number of splits if N does not divide the array into sub-arrays of equal length \n",
    "                    \n",
    "\n",
    "**array_split():** It is used to split the array into sub-arrays. It takes the integer 'N' as the input for the number of splits, even if 'N' does not divide the array into sub-arrays of equal length.<br>"
   ]
  },
  {
   "cell_type": "code",
   "execution_count": 20,
   "id": "cd574990",
   "metadata": {},
   "outputs": [
    {
     "data": {
      "text/plain": [
       "[array([0, 1, 2]), array([3, 4, 5]), array([6, 7])]"
      ]
     },
     "execution_count": 20,
     "metadata": {},
     "output_type": "execute_result"
    }
   ],
   "source": [
    "# split 'array_x' into 3 sub-arrays using 'array_split'\n",
    "np.array_split(array_x, 3)"
   ]
  },
  {
   "cell_type": "markdown",
   "id": "3932a38d",
   "metadata": {},
   "source": [
    "We split the array of length 8 into 3 sub-arrays; the function 'array_split()' returns <i>8 % 3 (=2)</i> sub-arrays of size <i>8//3 + 1 (=3)</i> and the rest (i.e. one sub-array) of size <i>8//3 (=2)</i>."
   ]
  },
  {
   "cell_type": "markdown",
   "id": "ab3f4404",
   "metadata": {},
   "source": [
    "**vsplit():**<br>\n",
    "The vsplit() function is used to split an array into multiple sub-arrays vertically (row-wise)."
   ]
  },
  {
   "cell_type": "code",
   "execution_count": null,
   "id": "5e5aa942",
   "metadata": {},
   "outputs": [],
   "source": [
    "# declare an array\n",
    "my_array = np.arange(20.0)\n",
    "\n",
    "print(\"The array is:\\n\", my_array)"
   ]
  },
  {
   "cell_type": "code",
   "execution_count": null,
   "id": "503567e8",
   "metadata": {},
   "outputs": [],
   "source": [
    "# reshape the array in 4 rows and 5 columns\n",
    "my_reshaped_array = my_array.reshape(4, 5)\n",
    "\n",
    "# print the array\n",
    "print(\"The reshaped array is:\\n\", my_reshaped_array)"
   ]
  },
  {
   "cell_type": "code",
   "execution_count": null,
   "id": "34dae3f8",
   "metadata": {},
   "outputs": [],
   "source": [
    "# split the array vertically\n",
    "np.vsplit(my_reshaped_array, 2)"
   ]
  },
  {
   "cell_type": "markdown",
   "id": "7ee03633",
   "metadata": {},
   "source": [
    "**hsplit():**<br>\n",
    "The hsplit() function is used to split an array into multiple sub-arrays horizontally (column-wise)."
   ]
  },
  {
   "cell_type": "code",
   "execution_count": null,
   "id": "b46a1fa7",
   "metadata": {},
   "outputs": [],
   "source": [
    "# declare an array\n",
    "my_array = np.arange(16.0).reshape(4, 4)\n",
    "\n",
    "# print an array\n",
    "my_array"
   ]
  },
  {
   "cell_type": "code",
   "execution_count": null,
   "id": "9833669c",
   "metadata": {},
   "outputs": [],
   "source": [
    "# split the array horizontally\n",
    "np.hsplit(my_array, 2)"
   ]
  },
  {
   "cell_type": "markdown",
   "id": "fd1bf054",
   "metadata": {},
   "source": [
    "**dsplit():**<br>\n",
    "The dsplit() function is used to split an array into multiple sub-arrays."
   ]
  },
  {
   "cell_type": "code",
   "execution_count": null,
   "id": "d5426a66",
   "metadata": {},
   "outputs": [],
   "source": [
    "# declare an array\n",
    "my_array = np.arange(12.0).reshape(2, 2, 3)\n",
    "\n",
    "# print it\n",
    "my_array"
   ]
  },
  {
   "cell_type": "code",
   "execution_count": null,
   "id": "93811702",
   "metadata": {},
   "outputs": [],
   "source": [
    "# split the array along the depth in 3 subgroups\n",
    "np.dsplit(my_array, 3)"
   ]
  },
  {
   "cell_type": "code",
   "execution_count": null,
   "id": "a8cc0f24",
   "metadata": {},
   "outputs": [],
   "source": []
  }
 ],
 "metadata": {
  "kernelspec": {
   "display_name": "Python 3 (ipykernel)",
   "language": "python",
   "name": "python3"
  },
  "language_info": {
   "codemirror_mode": {
    "name": "ipython",
    "version": 3
   },
   "file_extension": ".py",
   "mimetype": "text/x-python",
   "name": "python",
   "nbconvert_exporter": "python",
   "pygments_lexer": "ipython3",
   "version": "3.11.4"
  }
 },
 "nbformat": 4,
 "nbformat_minor": 5
}
